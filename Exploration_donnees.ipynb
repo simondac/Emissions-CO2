{
 "cells": [
  {
   "cell_type": "markdown",
   "metadata": {},
   "source": [
    "# Librairies et répertoires"
   ]
  },
  {
   "cell_type": "code",
   "execution_count": 1,
   "metadata": {},
   "outputs": [],
   "source": [
    "import pandas as pd\n",
    "import numpy as np\n",
    "import matplotlib.pyplot as plt"
   ]
  },
  {
   "cell_type": "code",
   "execution_count": 2,
   "metadata": {},
   "outputs": [],
   "source": [
    "chemin_principal = 'D:\\\\OneDrive\\\\Data Science\\\\Data\\\\CO2\\\\'\n",
    "chemin_code = chemin_principal + 'Code\\\\'"
   ]
  },
  {
   "cell_type": "markdown",
   "metadata": {},
   "source": [
    "# Lecture fichier Climatewatchdata"
   ]
  },
  {
   "cell_type": "code",
   "execution_count": 3,
   "metadata": {},
   "outputs": [
    {
     "data": {
      "text/html": [
       "<div>\n",
       "<style scoped>\n",
       "    .dataframe tbody tr th:only-of-type {\n",
       "        vertical-align: middle;\n",
       "    }\n",
       "\n",
       "    .dataframe tbody tr th {\n",
       "        vertical-align: top;\n",
       "    }\n",
       "\n",
       "    .dataframe thead th {\n",
       "        text-align: right;\n",
       "    }\n",
       "</style>\n",
       "<table border=\"1\" class=\"dataframe\">\n",
       "  <thead>\n",
       "    <tr style=\"text-align: right;\">\n",
       "      <th></th>\n",
       "      <th>Data source</th>\n",
       "      <th>Sector</th>\n",
       "      <th>Gas</th>\n",
       "      <th>Unit</th>\n",
       "      <th>2018</th>\n",
       "      <th>2017</th>\n",
       "      <th>2016</th>\n",
       "      <th>2015</th>\n",
       "      <th>2014</th>\n",
       "      <th>2013</th>\n",
       "      <th>...</th>\n",
       "      <th>1999</th>\n",
       "      <th>1998</th>\n",
       "      <th>1997</th>\n",
       "      <th>1996</th>\n",
       "      <th>1995</th>\n",
       "      <th>1994</th>\n",
       "      <th>1993</th>\n",
       "      <th>1992</th>\n",
       "      <th>1991</th>\n",
       "      <th>1990</th>\n",
       "    </tr>\n",
       "    <tr>\n",
       "      <th>Country</th>\n",
       "      <th></th>\n",
       "      <th></th>\n",
       "      <th></th>\n",
       "      <th></th>\n",
       "      <th></th>\n",
       "      <th></th>\n",
       "      <th></th>\n",
       "      <th></th>\n",
       "      <th></th>\n",
       "      <th></th>\n",
       "      <th></th>\n",
       "      <th></th>\n",
       "      <th></th>\n",
       "      <th></th>\n",
       "      <th></th>\n",
       "      <th></th>\n",
       "      <th></th>\n",
       "      <th></th>\n",
       "      <th></th>\n",
       "      <th></th>\n",
       "      <th></th>\n",
       "    </tr>\n",
       "  </thead>\n",
       "  <tbody>\n",
       "    <tr>\n",
       "      <th>World</th>\n",
       "      <td>CAIT</td>\n",
       "      <td>Total including LUCF</td>\n",
       "      <td>All GHG</td>\n",
       "      <td>MtCO₂e</td>\n",
       "      <td>48939.71</td>\n",
       "      <td>47990.47</td>\n",
       "      <td>47413.95</td>\n",
       "      <td>46760.47</td>\n",
       "      <td>46647.29</td>\n",
       "      <td>46047.13</td>\n",
       "      <td>...</td>\n",
       "      <td>34948.94</td>\n",
       "      <td>34929.19</td>\n",
       "      <td>35387.89</td>\n",
       "      <td>34068.91</td>\n",
       "      <td>33703.46</td>\n",
       "      <td>32977.47</td>\n",
       "      <td>32766.49</td>\n",
       "      <td>32670.32</td>\n",
       "      <td>32813.46</td>\n",
       "      <td>32645.91</td>\n",
       "    </tr>\n",
       "    <tr>\n",
       "      <th>China</th>\n",
       "      <td>CAIT</td>\n",
       "      <td>Total including LUCF</td>\n",
       "      <td>All GHG</td>\n",
       "      <td>MtCO₂e</td>\n",
       "      <td>11705.81</td>\n",
       "      <td>11408.26</td>\n",
       "      <td>11207.66</td>\n",
       "      <td>11149.68</td>\n",
       "      <td>11155.76</td>\n",
       "      <td>11144.76</td>\n",
       "      <td>...</td>\n",
       "      <td>4053.37</td>\n",
       "      <td>4103.23</td>\n",
       "      <td>3963.61</td>\n",
       "      <td>3954.75</td>\n",
       "      <td>3918.30</td>\n",
       "      <td>3528.81</td>\n",
       "      <td>3377.79</td>\n",
       "      <td>3154.54</td>\n",
       "      <td>3023.38</td>\n",
       "      <td>2873.71</td>\n",
       "    </tr>\n",
       "    <tr>\n",
       "      <th>United States</th>\n",
       "      <td>CAIT</td>\n",
       "      <td>Total including LUCF</td>\n",
       "      <td>All GHG</td>\n",
       "      <td>MtCO₂e</td>\n",
       "      <td>5794.35</td>\n",
       "      <td>5613.64</td>\n",
       "      <td>5676.92</td>\n",
       "      <td>5586.69</td>\n",
       "      <td>5711.15</td>\n",
       "      <td>5690.79</td>\n",
       "      <td>...</td>\n",
       "      <td>6291.25</td>\n",
       "      <td>6293.80</td>\n",
       "      <td>6258.47</td>\n",
       "      <td>6010.62</td>\n",
       "      <td>5843.90</td>\n",
       "      <td>5782.20</td>\n",
       "      <td>5691.26</td>\n",
       "      <td>5583.80</td>\n",
       "      <td>5501.92</td>\n",
       "      <td>5543.47</td>\n",
       "    </tr>\n",
       "    <tr>\n",
       "      <th>India</th>\n",
       "      <td>CAIT</td>\n",
       "      <td>Total including LUCF</td>\n",
       "      <td>All GHG</td>\n",
       "      <td>MtCO₂e</td>\n",
       "      <td>3346.63</td>\n",
       "      <td>3202.82</td>\n",
       "      <td>3073.24</td>\n",
       "      <td>3002.17</td>\n",
       "      <td>2988.34</td>\n",
       "      <td>2816.49</td>\n",
       "      <td>...</td>\n",
       "      <td>1460.24</td>\n",
       "      <td>1382.26</td>\n",
       "      <td>1348.09</td>\n",
       "      <td>1289.63</td>\n",
       "      <td>1240.44</td>\n",
       "      <td>1174.78</td>\n",
       "      <td>1128.44</td>\n",
       "      <td>1096.71</td>\n",
       "      <td>1064.49</td>\n",
       "      <td>1009.44</td>\n",
       "    </tr>\n",
       "    <tr>\n",
       "      <th>European Union (27)</th>\n",
       "      <td>CAIT</td>\n",
       "      <td>Total including LUCF</td>\n",
       "      <td>All GHG</td>\n",
       "      <td>MtCO₂e</td>\n",
       "      <td>3333.16</td>\n",
       "      <td>3401.95</td>\n",
       "      <td>3387.97</td>\n",
       "      <td>3046.38</td>\n",
       "      <td>2990.49</td>\n",
       "      <td>3136.34</td>\n",
       "      <td>...</td>\n",
       "      <td>3934.85</td>\n",
       "      <td>4008.29</td>\n",
       "      <td>4048.58</td>\n",
       "      <td>4126.40</td>\n",
       "      <td>4018.79</td>\n",
       "      <td>3968.32</td>\n",
       "      <td>3984.95</td>\n",
       "      <td>4058.11</td>\n",
       "      <td>4202.13</td>\n",
       "      <td>4279.18</td>\n",
       "    </tr>\n",
       "  </tbody>\n",
       "</table>\n",
       "<p>5 rows × 33 columns</p>\n",
       "</div>"
      ],
      "text/plain": [
       "                    Data source                Sector      Gas    Unit  \\\n",
       "Country                                                                  \n",
       "World                      CAIT  Total including LUCF  All GHG  MtCO₂e   \n",
       "China                      CAIT  Total including LUCF  All GHG  MtCO₂e   \n",
       "United States              CAIT  Total including LUCF  All GHG  MtCO₂e   \n",
       "India                      CAIT  Total including LUCF  All GHG  MtCO₂e   \n",
       "European Union (27)        CAIT  Total including LUCF  All GHG  MtCO₂e   \n",
       "\n",
       "                         2018      2017      2016      2015      2014  \\\n",
       "Country                                                                 \n",
       "World                48939.71  47990.47  47413.95  46760.47  46647.29   \n",
       "China                11705.81  11408.26  11207.66  11149.68  11155.76   \n",
       "United States         5794.35   5613.64   5676.92   5586.69   5711.15   \n",
       "India                 3346.63   3202.82   3073.24   3002.17   2988.34   \n",
       "European Union (27)   3333.16   3401.95   3387.97   3046.38   2990.49   \n",
       "\n",
       "                         2013  ...      1999      1998      1997      1996  \\\n",
       "Country                        ...                                           \n",
       "World                46047.13  ...  34948.94  34929.19  35387.89  34068.91   \n",
       "China                11144.76  ...   4053.37   4103.23   3963.61   3954.75   \n",
       "United States         5690.79  ...   6291.25   6293.80   6258.47   6010.62   \n",
       "India                 2816.49  ...   1460.24   1382.26   1348.09   1289.63   \n",
       "European Union (27)   3136.34  ...   3934.85   4008.29   4048.58   4126.40   \n",
       "\n",
       "                         1995      1994      1993      1992      1991  \\\n",
       "Country                                                                 \n",
       "World                33703.46  32977.47  32766.49  32670.32  32813.46   \n",
       "China                 3918.30   3528.81   3377.79   3154.54   3023.38   \n",
       "United States         5843.90   5782.20   5691.26   5583.80   5501.92   \n",
       "India                 1240.44   1174.78   1128.44   1096.71   1064.49   \n",
       "European Union (27)   4018.79   3968.32   3984.95   4058.11   4202.13   \n",
       "\n",
       "                         1990  \n",
       "Country                        \n",
       "World                32645.91  \n",
       "China                 2873.71  \n",
       "United States         5543.47  \n",
       "India                 1009.44  \n",
       "European Union (27)   4279.18  \n",
       "\n",
       "[5 rows x 33 columns]"
      ]
     },
     "execution_count": 3,
     "metadata": {},
     "output_type": "execute_result"
    }
   ],
   "source": [
    "df_climatewatchdata = pd.read_csv(\n",
    "    (chemin_principal + 'historical_emissions_climatewatchdata.csv'),\n",
    "    index_col='Country'\n",
    "    )\n",
    "\n",
    "df_climatewatchdata.head()"
   ]
  },
  {
   "cell_type": "markdown",
   "metadata": {},
   "source": [
    "# Exploration de données\n",
    "## Value_counts des data source"
   ]
  },
  {
   "cell_type": "code",
   "execution_count": 4,
   "metadata": {},
   "outputs": [
    {
     "data": {
      "text/plain": [
       "CAIT    195\n",
       "Name: Data source, dtype: int64"
      ]
     },
     "execution_count": 4,
     "metadata": {},
     "output_type": "execute_result"
    }
   ],
   "source": [
    "df_climatewatchdata['Data source'].value_counts()"
   ]
  },
  {
   "cell_type": "markdown",
   "metadata": {},
   "source": [
    "## Value_counts des secteurs"
   ]
  },
  {
   "cell_type": "code",
   "execution_count": 5,
   "metadata": {},
   "outputs": [
    {
     "data": {
      "text/plain": [
       "Total including LUCF    195\n",
       "Name: Sector, dtype: int64"
      ]
     },
     "execution_count": 5,
     "metadata": {},
     "output_type": "execute_result"
    }
   ],
   "source": [
    "df_climatewatchdata['Sector'].value_counts()"
   ]
  },
  {
   "cell_type": "markdown",
   "metadata": {},
   "source": [
    "## Value_counts des Gas"
   ]
  },
  {
   "cell_type": "code",
   "execution_count": 6,
   "metadata": {},
   "outputs": [
    {
     "data": {
      "text/plain": [
       "All GHG    195\n",
       "Name: Gas, dtype: int64"
      ]
     },
     "execution_count": 6,
     "metadata": {},
     "output_type": "execute_result"
    }
   ],
   "source": [
    "df_climatewatchdata['Gas'].value_counts()"
   ]
  },
  {
   "cell_type": "markdown",
   "metadata": {},
   "source": [
    "## Value_counts des Unit"
   ]
  },
  {
   "cell_type": "code",
   "execution_count": 7,
   "metadata": {},
   "outputs": [
    {
     "data": {
      "text/plain": [
       "MtCO₂e    195\n",
       "Name: Unit, dtype: int64"
      ]
     },
     "execution_count": 7,
     "metadata": {},
     "output_type": "execute_result"
    }
   ],
   "source": [
    "df_climatewatchdata['Unit'].value_counts()"
   ]
  },
  {
   "cell_type": "markdown",
   "metadata": {},
   "source": [
    "**Les variables Data source, Sector, Gas et Unit ont toutes une valeur unique.**"
   ]
  },
  {
   "cell_type": "markdown",
   "metadata": {},
   "source": [
    "## Nombre de pays représentés"
   ]
  },
  {
   "cell_type": "code",
   "execution_count": 8,
   "metadata": {},
   "outputs": [
    {
     "name": "stdout",
     "output_type": "stream",
     "text": [
      "Nombre de pays représentés : 195\n"
     ]
    }
   ],
   "source": [
    "nb_pays = len(df_climatewatchdata.index.unique())\n",
    "print('Nombre de pays représentés :', nb_pays)"
   ]
  }
 ],
 "metadata": {
  "interpreter": {
   "hash": "fe1610ab63cd726e91a61fe78ce1a475aa9ae83ac6caa7ceb5c58c9a3dff1027"
  },
  "kernelspec": {
   "display_name": "Python 3.9.7 ('base')",
   "language": "python",
   "name": "python3"
  },
  "language_info": {
   "codemirror_mode": {
    "name": "ipython",
    "version": 3
   },
   "file_extension": ".py",
   "mimetype": "text/x-python",
   "name": "python",
   "nbconvert_exporter": "python",
   "pygments_lexer": "ipython3",
   "version": "3.9.11"
  },
  "orig_nbformat": 4
 },
 "nbformat": 4,
 "nbformat_minor": 2
}
